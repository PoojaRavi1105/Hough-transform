{
 "cells": [
  {
   "cell_type": "code",
   "execution_count": 1,
   "metadata": {},
   "outputs": [],
   "source": [
    "import numpy as np\n",
    "import cv2 as cv\n",
    "import math"
   ]
  },
  {
   "cell_type": "code",
   "execution_count": 70,
   "metadata": {},
   "outputs": [],
   "source": [
    "img = cv.imread('hough.jpg',0)\n",
    "[rows,cols] = img.shape"
   ]
  },
  {
   "cell_type": "markdown",
   "metadata": {},
   "source": [
    "# Padding"
   ]
  },
  {
   "cell_type": "code",
   "execution_count": 71,
   "metadata": {},
   "outputs": [],
   "source": [
    "def padding(img):\n",
    "    [rows,cols] = img.shape\n",
    "    listofzeros = [0] * (cols+2)\n",
    "    image_pad = list()\n",
    "    image_pad.append(listofzeros)\n",
    "    for i in img:\n",
    "        i = list(i)\n",
    "        i.insert(0,0)\n",
    "        i.insert(len(i)+1,0)\n",
    "        image_pad.append(i)\n",
    "    image_pad.append(listofzeros)\n",
    "    image_pad = np.asarray(image_pad)\n",
    "    return image_pad"
   ]
  },
  {
   "cell_type": "markdown",
   "metadata": {},
   "source": [
    "# Convolution"
   ]
  },
  {
   "cell_type": "code",
   "execution_count": 72,
   "metadata": {},
   "outputs": [],
   "source": [
    "def convolution(image,kernel):\n",
    "    [rows,cols] = image.shape\n",
    "    image_pad = padding(image)\n",
    "    conv_img = [[0] * (int)(cols) for _ in range((int)(rows))]\n",
    "    for i in range(1,rows-1):\n",
    "        for j in range(1,cols-1):\n",
    "            s=0\n",
    "            for k in range(3):\n",
    "                for l in range(3):\n",
    "                    s+=image_pad[i-1+k,j-1+l]*kernel[k,l]\n",
    "            conv_img[i-1][j-1] = s\n",
    "    return np.asarray(conv_img)"
   ]
  },
  {
   "cell_type": "markdown",
   "metadata": {},
   "source": [
    "# Edge detection"
   ]
  },
  {
   "cell_type": "code",
   "execution_count": 73,
   "metadata": {},
   "outputs": [],
   "source": [
    "def edges(conv_img,threshold):\n",
    "    for i in range(conv_img.shape[0]):\n",
    "        for j in range(conv_img.shape[1]):\n",
    "            if conv_img[i,j]>threshold:\n",
    "                conv_img[i,j] = 255\n",
    "            else:\n",
    "                conv_img[i,j] = 0\n",
    "    return conv_img"
   ]
  },
  {
   "cell_type": "code",
   "execution_count": 74,
   "metadata": {},
   "outputs": [],
   "source": [
    "x_sob = [[1, 0, -1], \n",
    "         [2, 0, -2], \n",
    "         [1, 0, -1]]\n",
    "y_sob = [[1, 2, 1], \n",
    "         [0, 0, 0], \n",
    "         [-1, -2, -1]]\n",
    "x_sob = np.asarray(x_sob)\n",
    "y_sob = np.asarray(y_sob)"
   ]
  },
  {
   "cell_type": "code",
   "execution_count": 75,
   "metadata": {},
   "outputs": [
    {
     "data": {
      "text/plain": [
       "True"
      ]
     },
     "execution_count": 75,
     "metadata": {},
     "output_type": "execute_result"
    }
   ],
   "source": [
    "conv_img_x = convolution(img,x_sob)\n",
    "conv_img_x = edges(conv_img_x,200)\n",
    "cv.imwrite('x_sob.png',conv_img_x)"
   ]
  },
  {
   "cell_type": "code",
   "execution_count": 76,
   "metadata": {},
   "outputs": [
    {
     "data": {
      "text/plain": [
       "True"
      ]
     },
     "execution_count": 76,
     "metadata": {},
     "output_type": "execute_result"
    }
   ],
   "source": [
    "conv_img_y = convolution(img,y_sob)\n",
    "conv_img_y = edges(conv_img_y,70)\n",
    "cv.imwrite('y_sob.png',conv_img_y)"
   ]
  },
  {
   "cell_type": "code",
   "execution_count": 77,
   "metadata": {},
   "outputs": [],
   "source": [
    "conv_img = np.empty([rows,cols])\n",
    "for i in range(rows):\n",
    "    for j in range(cols):\n",
    "        conv_img[i,j] = math.sqrt(conv_img_x[i,j]**2 + conv_img_y[i,j]**2)"
   ]
  },
  {
   "cell_type": "code",
   "execution_count": 78,
   "metadata": {},
   "outputs": [
    {
     "data": {
      "text/plain": [
       "True"
      ]
     },
     "execution_count": 78,
     "metadata": {},
     "output_type": "execute_result"
    }
   ],
   "source": [
    "cv.imwrite('edges.png',conv_img)"
   ]
  },
  {
   "cell_type": "markdown",
   "metadata": {},
   "source": [
    "# Hough transform"
   ]
  },
  {
   "cell_type": "code",
   "execution_count": 188,
   "metadata": {},
   "outputs": [],
   "source": [
    "def find_rho(x,y,theta,diag):\n",
    "    return int((y*math.cos(math.radians(theta)) + x*math.sin(math.radians(theta))+diag))"
   ]
  },
  {
   "cell_type": "markdown",
   "metadata": {},
   "source": [
    "# Accumulator matrix"
   ]
  },
  {
   "cell_type": "code",
   "execution_count": 189,
   "metadata": {},
   "outputs": [],
   "source": [
    "diag = math.sqrt(rows**2 + cols**2)"
   ]
  },
  {
   "cell_type": "code",
   "execution_count": 190,
   "metadata": {},
   "outputs": [],
   "source": [
    "def accumulator_matrix(conv):\n",
    "    accumulator = np.zeros((180,2*int(diag)-1))\n",
    "    for i in range(conv.shape[0]):\n",
    "        for j in range(conv.shape[1]):\n",
    "            if conv[i,j] == 255:\n",
    "                for k in range(-90,90):\n",
    "                    rho_val = find_rho(i,j,k,diag)\n",
    "                    theta = k + 90\n",
    "                    accumulator[theta,rho_val] = accumulator[theta,rho_val] + 1\n",
    "    return accumulator"
   ]
  },
  {
   "cell_type": "code",
   "execution_count": 191,
   "metadata": {},
   "outputs": [],
   "source": [
    "def accumulator_matrix_y(conv):\n",
    "    accumulator = np.zeros((160,2*int(diag)-1))\n",
    "    for i in range(conv.shape[0]):\n",
    "        for j in range(conv.shape[1]):\n",
    "            if conv[i,j] == 255:\n",
    "                for k in range(-80,80):\n",
    "                    rho_val = find_rho(i,j,k,diag)\n",
    "                    theta = k + 80\n",
    "                    accumulator[theta,rho_val] = accumulator[theta,rho_val] + 1\n",
    "    return accumulator"
   ]
  },
  {
   "cell_type": "code",
   "execution_count": 192,
   "metadata": {},
   "outputs": [
    {
     "data": {
      "text/plain": [
       "True"
      ]
     },
     "execution_count": 192,
     "metadata": {},
     "output_type": "execute_result"
    }
   ],
   "source": [
    "accumulator_x = accumulator_matrix(conv_img_x)\n",
    "cv.imwrite('accumulator_vertical.png',accumulator_x)"
   ]
  },
  {
   "cell_type": "code",
   "execution_count": 193,
   "metadata": {},
   "outputs": [
    {
     "data": {
      "text/plain": [
       "(180, 1637)"
      ]
     },
     "execution_count": 193,
     "metadata": {},
     "output_type": "execute_result"
    }
   ],
   "source": [
    "accumulator_x.shape"
   ]
  },
  {
   "cell_type": "code",
   "execution_count": 194,
   "metadata": {},
   "outputs": [
    {
     "data": {
      "text/plain": [
       "True"
      ]
     },
     "execution_count": 194,
     "metadata": {},
     "output_type": "execute_result"
    }
   ],
   "source": [
    "accumulator_y = accumulator_matrix_y(conv_img_y)\n",
    "cv.imwrite('accumulator_diagonal.png',accumulator_y)"
   ]
  },
  {
   "cell_type": "code",
   "execution_count": 195,
   "metadata": {},
   "outputs": [
    {
     "data": {
      "text/plain": [
       "(160, 1637)"
      ]
     },
     "execution_count": 195,
     "metadata": {},
     "output_type": "execute_result"
    }
   ],
   "source": [
    "accumulator_y.shape"
   ]
  },
  {
   "cell_type": "markdown",
   "metadata": {},
   "source": [
    "# Finding peaks in the sinusoidal curve"
   ]
  },
  {
   "cell_type": "code",
   "execution_count": 196,
   "metadata": {},
   "outputs": [],
   "source": [
    "def max_indices(arr, k):\n",
    "    '''\n",
    "    Returns the indices of the k first largest elements of arr\n",
    "    (in descending order in values)\n",
    "    '''\n",
    "    assert k <= arr.size, 'k should be smaller or equal to the array size'\n",
    "    arr_ = arr.astype(float)  # make a copy of arr\n",
    "    max_idxs = []\n",
    "    for _ in range(k):\n",
    "        max_element = np.max(arr_)\n",
    "        if np.isinf(max_element):\n",
    "            break\n",
    "        else:\n",
    "            idx = np.where(arr_ == max_element)\n",
    "        max_idxs.append(idx)\n",
    "        arr_[idx] = -np.inf\n",
    "    return np.asarray(max_idxs)"
   ]
  },
  {
   "cell_type": "code",
   "execution_count": 197,
   "metadata": {},
   "outputs": [],
   "source": [
    "def points(indices):\n",
    "    k = []\n",
    "    for i in range(indices.shape[0]):\n",
    "        n = indices[i][0].shape[0]\n",
    "        if n>1:\n",
    "            for j in range(n):\n",
    "                k.append([indices[i][0][j], indices[i][1][j]])\n",
    "        else:\n",
    "            k.append([indices[i][0][0], indices[i][1][0]])\n",
    "    return np.asarray(k)"
   ]
  },
  {
   "cell_type": "code",
   "execution_count": 198,
   "metadata": {},
   "outputs": [
    {
     "data": {
      "text/plain": [
       "(43, 2)"
      ]
     },
     "execution_count": 198,
     "metadata": {},
     "output_type": "execute_result"
    }
   ],
   "source": [
    "indices_x = max_indices(accumulator_x,40)\n",
    "indices_x = points(indices_x)\n",
    "indices_x.shape"
   ]
  },
  {
   "cell_type": "code",
   "execution_count": 216,
   "metadata": {},
   "outputs": [
    {
     "data": {
      "text/plain": [
       "(43, 2)"
      ]
     },
     "execution_count": 216,
     "metadata": {},
     "output_type": "execute_result"
    }
   ],
   "source": [
    "indices_y = max_indices(accumulator_y,35)\n",
    "indices_y = points(indices_y)\n",
    "indices_y.shape"
   ]
  },
  {
   "cell_type": "markdown",
   "metadata": {},
   "source": [
    "# Plotting lines"
   ]
  },
  {
   "cell_type": "code",
   "execution_count": 200,
   "metadata": {},
   "outputs": [],
   "source": [
    "def plotting_lines(conv,indices,r,g,b):\n",
    "    img = cv.imread('hough.jpg')\n",
    "    coord = []\n",
    "    for i in range(rows):\n",
    "        for j in range(cols):\n",
    "            if conv[i,j] == 255:\n",
    "                for k in range(indices.shape[0]):\n",
    "                    r = find_rho(i,j,indices[k,0]-90,diag)\n",
    "                    if r == indices[k,1]:\n",
    "                        coord.append([i,j])\n",
    "                        img[i,j] = (r,g,b)\n",
    "    coord = np.asarray(coord)\n",
    "    return img"
   ]
  },
  {
   "cell_type": "code",
   "execution_count": 212,
   "metadata": {},
   "outputs": [],
   "source": [
    "def plotting_lines_y(conv,indices,r,g,b):\n",
    "    img = cv.imread('hough.jpg')\n",
    "    res_img = img\n",
    "    coord = []\n",
    "    for i in range(rows):\n",
    "        for j in range(cols):\n",
    "            if conv[i,j] == 255:\n",
    "                for k in range(indices.shape[0]):\n",
    "                    r = find_rho(i,j,indices[k,0]-80,diag)\n",
    "                    if r == indices[k,1]:\n",
    "                        coord.append([i,j])\n",
    "                        res_img[i,j] = (r,g,b)\n",
    "    coord = np.asarray(coord)\n",
    "    return res_img"
   ]
  },
  {
   "cell_type": "code",
   "execution_count": 218,
   "metadata": {},
   "outputs": [
    {
     "data": {
      "text/plain": [
       "True"
      ]
     },
     "execution_count": 218,
     "metadata": {},
     "output_type": "execute_result"
    }
   ],
   "source": [
    "vertical_lines = plotting_lines(conv_img_x,indices_x,0,255,255)\n",
    "cv.imwrite('red_lines.png',vertical_lines)"
   ]
  },
  {
   "cell_type": "code",
   "execution_count": 219,
   "metadata": {},
   "outputs": [
    {
     "data": {
      "text/plain": [
       "True"
      ]
     },
     "execution_count": 219,
     "metadata": {},
     "output_type": "execute_result"
    }
   ],
   "source": [
    "diagonal_lines = plotting_lines_y(conv_img_y,indices_y,0,255,200)\n",
    "cv.imwrite('blue_lines.png',diagonal_lines)"
   ]
  },
  {
   "cell_type": "code",
   "execution_count": null,
   "metadata": {},
   "outputs": [],
   "source": []
  }
 ],
 "metadata": {
  "kernelspec": {
   "display_name": "Python 3",
   "language": "python",
   "name": "python3"
  },
  "language_info": {
   "codemirror_mode": {
    "name": "ipython",
    "version": 3
   },
   "file_extension": ".py",
   "mimetype": "text/x-python",
   "name": "python",
   "nbconvert_exporter": "python",
   "pygments_lexer": "ipython3",
   "version": "3.6.6"
  }
 },
 "nbformat": 4,
 "nbformat_minor": 2
}
