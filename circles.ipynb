{
 "cells": [
  {
   "cell_type": "code",
   "execution_count": 119,
   "metadata": {},
   "outputs": [],
   "source": [
    "import numpy as np\n",
    "import cv2 as cv\n",
    "import math"
   ]
  },
  {
   "cell_type": "code",
   "execution_count": 120,
   "metadata": {},
   "outputs": [],
   "source": [
    "img = cv.imread('hough.jpg',0)\n",
    "[rows,cols] = img.shape"
   ]
  },
  {
   "cell_type": "markdown",
   "metadata": {},
   "source": [
    "# Padding"
   ]
  },
  {
   "cell_type": "code",
   "execution_count": 121,
   "metadata": {},
   "outputs": [],
   "source": [
    "def padding(img):\n",
    "    [rows,cols] = img.shape\n",
    "    listofzeros = [0] * (cols+2)\n",
    "    image_pad = list()\n",
    "    image_pad.append(listofzeros)\n",
    "    for i in img:\n",
    "        i = list(i)\n",
    "        i.insert(0,0)\n",
    "        i.insert(len(i)+1,0)\n",
    "        image_pad.append(i)\n",
    "    image_pad.append(listofzeros)\n",
    "    image_pad = np.asarray(image_pad)\n",
    "    return image_pad"
   ]
  },
  {
   "cell_type": "markdown",
   "metadata": {},
   "source": [
    "# Convolution"
   ]
  },
  {
   "cell_type": "code",
   "execution_count": 122,
   "metadata": {},
   "outputs": [],
   "source": [
    "def convolution(image,kernel):\n",
    "    [rows,cols] = image.shape\n",
    "    image_pad = padding(image)\n",
    "    conv_img = [[0] * (int)(cols) for _ in range((int)(rows))]\n",
    "    for i in range(1,rows-1):\n",
    "        for j in range(1,cols-1):\n",
    "            s=0\n",
    "            for k in range(3):\n",
    "                for l in range(3):\n",
    "                    s+=image_pad[i-1+k,j-1+l]*kernel[k,l]\n",
    "            conv_img[i-1][j-1] = s\n",
    "    return np.asarray(conv_img)"
   ]
  },
  {
   "cell_type": "markdown",
   "metadata": {},
   "source": [
    "# Edge detection"
   ]
  },
  {
   "cell_type": "code",
   "execution_count": 123,
   "metadata": {},
   "outputs": [],
   "source": [
    "def edges(conv_img,threshold):\n",
    "    for i in range(conv_img.shape[0]):\n",
    "        for j in range(conv_img.shape[1]):\n",
    "            if conv_img[i,j]>threshold:\n",
    "                conv_img[i,j] = 255\n",
    "            else:\n",
    "                conv_img[i,j] = 0\n",
    "    return conv_img"
   ]
  },
  {
   "cell_type": "code",
   "execution_count": 124,
   "metadata": {},
   "outputs": [],
   "source": [
    "x_sob = [[1, 0, -1], \n",
    "         [2, 0, -2], \n",
    "         [1, 0, -1]]\n",
    "y_sob = [[1, 2, 1], \n",
    "         [0, 0, 0], \n",
    "         [-1, -2, -1]]\n",
    "x_sob = np.asarray(x_sob)\n",
    "y_sob = np.asarray(y_sob)"
   ]
  },
  {
   "cell_type": "code",
   "execution_count": 125,
   "metadata": {},
   "outputs": [
    {
     "data": {
      "text/plain": [
       "True"
      ]
     },
     "execution_count": 125,
     "metadata": {},
     "output_type": "execute_result"
    }
   ],
   "source": [
    "conv_img_y = convolution(img,y_sob)\n",
    "conv_img_y = edges(conv_img_y,150)\n",
    "cv.imwrite('y_sob_bonus.png',conv_img_y)"
   ]
  },
  {
   "cell_type": "code",
   "execution_count": 126,
   "metadata": {},
   "outputs": [
    {
     "data": {
      "text/plain": [
       "True"
      ]
     },
     "execution_count": 126,
     "metadata": {},
     "output_type": "execute_result"
    }
   ],
   "source": [
    "conv_img_x = convolution(img,x_sob)\n",
    "conv_img_x = edges(conv_img_x,150)\n",
    "cv.imwrite('x_sob_bonus.png',conv_img_x)"
   ]
  },
  {
   "cell_type": "code",
   "execution_count": 127,
   "metadata": {},
   "outputs": [
    {
     "data": {
      "text/plain": [
       "True"
      ]
     },
     "execution_count": 127,
     "metadata": {},
     "output_type": "execute_result"
    }
   ],
   "source": [
    "conv_img = np.empty([rows,cols])\n",
    "for i in range(rows):\n",
    "    for j in range(cols):\n",
    "        conv_img[i,j] = math.sqrt(conv_img_x[i,j]**2 + conv_img_y[i,j]**2)\n",
    "cv.imwrite('bonus_edges.png',conv_img)"
   ]
  },
  {
   "cell_type": "markdown",
   "metadata": {},
   "source": [
    "# Hough transform\n"
   ]
  },
  {
   "cell_type": "code",
   "execution_count": 160,
   "metadata": {},
   "outputs": [],
   "source": [
    "R=22\n",
    "def find_rho(a1,b1,t):\n",
    "    \n",
    "    a = int((b1 - R * math.cos(math.radians(t))))\n",
    "    b = int((a1 - R * math.sin(math.radians(t))))\n",
    "    \n",
    "    return a,b"
   ]
  },
  {
   "cell_type": "markdown",
   "metadata": {},
   "source": [
    "# Accumulator matrix"
   ]
  },
  {
   "cell_type": "code",
   "execution_count": 161,
   "metadata": {},
   "outputs": [],
   "source": [
    "def accumulator_matrix(conv):\n",
    "    accumulator = np.zeros((2*rows,2*cols))\n",
    "    for i in range(conv.shape[0]):\n",
    "        for j in range(conv.shape[1]):\n",
    "            if conv[i,j] == 255:\n",
    "                for k in range(0,360):\n",
    "                    a,b = find_rho(i,j,k)\n",
    "                    accumulator[a,b] = accumulator[a,b] + 1\n",
    "    return accumulator"
   ]
  },
  {
   "cell_type": "code",
   "execution_count": 163,
   "metadata": {},
   "outputs": [
    {
     "data": {
      "text/plain": [
       "True"
      ]
     },
     "execution_count": 163,
     "metadata": {},
     "output_type": "execute_result"
    }
   ],
   "source": [
    "accumulator_circle2 = accumulator_matrix(conv_img)\n",
    "cv.imwrite('accumulator_circle.png',accumulator_circle2)"
   ]
  },
  {
   "cell_type": "markdown",
   "metadata": {},
   "source": [
    "# Finding peaks in the sinusoidal curve"
   ]
  },
  {
   "cell_type": "code",
   "execution_count": 165,
   "metadata": {},
   "outputs": [],
   "source": [
    "def max_indices(arr, k):\n",
    "    '''\n",
    "    Returns the indices of the k first largest elements of arr\n",
    "    (in descending order in values)\n",
    "    '''\n",
    "    assert k <= arr.size, 'k should be smaller or equal to the array size'\n",
    "    arr_ = arr.astype(float)  # make a copy of arr\n",
    "    max_idxs = []\n",
    "    for _ in range(k):\n",
    "        max_element = np.max(arr_)\n",
    "        if np.isinf(max_element):\n",
    "            break\n",
    "        else:\n",
    "            idx = np.where(arr_ == max_element)\n",
    "        max_idxs.append(idx)\n",
    "        arr_[idx] = -np.inf\n",
    "    return np.asarray(max_idxs)"
   ]
  },
  {
   "cell_type": "code",
   "execution_count": 166,
   "metadata": {},
   "outputs": [],
   "source": [
    "def points(indices):\n",
    "    k = []\n",
    "    for i in range(indices.shape[0]):\n",
    "        n = indices[i][0].shape[0]\n",
    "        if n>1:\n",
    "            for j in range(n):\n",
    "                k.append([indices[i][0][j], indices[i][1][j]])\n",
    "        else:\n",
    "            k.append([indices[i][0][0], indices[i][1][0]])\n",
    "    return np.asarray(k)"
   ]
  },
  {
   "cell_type": "code",
   "execution_count": 182,
   "metadata": {},
   "outputs": [
    {
     "data": {
      "text/plain": [
       "(97, 2)"
      ]
     },
     "execution_count": 182,
     "metadata": {},
     "output_type": "execute_result"
    }
   ],
   "source": [
    "indices_circle = max_indices(accumulator_circle2,43)\n",
    "indices_circle = points(indices_circle)\n",
    "indices_circle.shape"
   ]
  },
  {
   "cell_type": "code",
   "execution_count": 183,
   "metadata": {},
   "outputs": [],
   "source": [
    "def plotting_circles(conv,indices,r,g,b):\n",
    "    img = cv.imread('hough.jpg')\n",
    "    coord = []\n",
    "    for k in range(indices.shape[0]):\n",
    "        a,b = indices[k,0],indices[k,1]\n",
    "        cv.circle(img,(a,b),R,(0,255,0))\n",
    "    cv.imwrite('output_circles.png',img)"
   ]
  },
  {
   "cell_type": "code",
   "execution_count": 184,
   "metadata": {},
   "outputs": [],
   "source": [
    "plotting_circles(conv_img,indices_circle,255,255,0)"
   ]
  }
 ],
 "metadata": {
  "kernelspec": {
   "display_name": "Python 3",
   "language": "python",
   "name": "python3"
  },
  "language_info": {
   "codemirror_mode": {
    "name": "ipython",
    "version": 3
   },
   "file_extension": ".py",
   "mimetype": "text/x-python",
   "name": "python",
   "nbconvert_exporter": "python",
   "pygments_lexer": "ipython3",
   "version": "3.6.6"
  }
 },
 "nbformat": 4,
 "nbformat_minor": 2
}
